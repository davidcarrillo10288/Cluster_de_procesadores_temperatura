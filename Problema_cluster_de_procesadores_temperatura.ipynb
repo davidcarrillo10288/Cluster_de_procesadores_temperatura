{
 "cells": [
  {
   "cell_type": "markdown",
   "metadata": {},
   "source": [
    "**Problema: Potencia en un clúster de procesadores y temperatura.** La temperatura $T$ de un cluster de tres procesadores es una función afín de la potencia de los procesadores $P^T = [P_{0}\\; P_{1}\\; P_{2}]$. Cuando los tres procesadores están en reposo tenemos que $P^T = [10\\; 10\\; 10]$ lo cual nos da una temperatura de $T=35$. Cuando el primer procesador opera a potencia absoluta tenemos que $P^T = [100\\; 10\\; 10]$ y la temperatura se eleva a $T=60$. Cuando el segundo procesador opera a su máxima capacidad tenemos $P^T = [10\\; 100\\; 10]$ y la temperatura se eleva a $T=75$. Cuando el tercer procesador opera a máxima potencia mientras que los otros dos están en reposo tenemos que $P^T = [10\\; 10\\; 100]$ y la temperatura se elevea a $T=65$. Supongamos que los tres procesadores operan a máxima potencia ¿Qué temperatura se alcanza? La temperatura de fusión de los procesadores (a la que los procesadores se derriten) es cerca de $150$ ¿Cuál es la potencia máxima que pueden alcanzar los procesadores para que $T\\le 150$?  \n",
    "*Hint:* $T(P) = a^T P + b$"
   ]
  },
  {
   "cell_type": "code",
   "execution_count": 2,
   "metadata": {},
   "outputs": [],
   "source": [
    "import numpy as np"
   ]
  },
  {
   "cell_type": "code",
   "execution_count": 38,
   "metadata": {},
   "outputs": [],
   "source": [
    "# variables, donde el 1, lo colocamos para multiplicar al coeficiente independiente (b)\n",
    "P_datos = np.array([[10,10,10,1],[100,10,10,1],[10,100,10,1],[10,10,100,1]])\n",
    "P_total = np.array([100,100,100,1])\n",
    "Temperatura_datos = np.array([35,60,75,65])"
   ]
  },
  {
   "cell_type": "code",
   "execution_count": 39,
   "metadata": {},
   "outputs": [
    {
     "name": "stdout",
     "output_type": "stream",
     "text": [
      "Este seria el vector con los coeficientes del sistema de ecuaciones:  [ 0.27777778  0.44444444  0.33333333 24.44444444]\n",
      "a0 =  0.2777777777777778\n",
      "a1 =  0.4444444444444444\n",
      "a2 =  0.3333333333333333\n",
      "b =  24.444444444444443\n"
     ]
    }
   ],
   "source": [
    "#Definiendo la función afin, de la temperatura con respecto a la potencia de los procesadores\n",
    "## Se tiene la forma de lo siguiente ecuacion: AX = B || donde A seria el vector de coeficientes, X seria el vector de potencias\n",
    "## y B seria el vector de temperaturas\n",
    "\n",
    "def T(X,B):\n",
    "    coeficientes = np.linalg.solve(X,B)\n",
    "    return coeficientes\n",
    "\n",
    "coeficientes = T(P_datos,Temperatura_datos)\n",
    "print(\"Este seria el vector con los coeficientes del sistema de ecuaciones: \",coeficientes)\n",
    "print(\"a0 = \",coeficientes[0])\n",
    "print(\"a1 = \",coeficientes[1])\n",
    "print(\"a2 = \",coeficientes[2])\n",
    "print(\"b = \",coeficientes[3])"
   ]
  },
  {
   "cell_type": "code",
   "execution_count": 40,
   "metadata": {},
   "outputs": [
    {
     "name": "stdout",
     "output_type": "stream",
     "text": [
      "La temperatura que se alcanza con los 3 procesadores a máxima potencia es:  130.0\n"
     ]
    }
   ],
   "source": [
    "#Ahora tenemos que reemplazar los datos de P_total para conocer la Temperatura que se alcanza cuando trabajan los 3 procesadores\n",
    "\n",
    "T_total = coeficientes.T.dot(P_total)\n",
    "print(\"La temperatura que se alcanza con los 3 procesadores a máxima potencia es: \",T_total)"
   ]
  },
  {
   "cell_type": "code",
   "execution_count": 42,
   "metadata": {},
   "outputs": [
    {
     "name": "stdout",
     "output_type": "stream",
     "text": [
      "La potencia máxima que pueden alcanzar en conjunto los 3 procesadores para no fusionarse es:  118.94736842105263\n"
     ]
    }
   ],
   "source": [
    "## Nos indican tambien, una suposición, si la temperatura de fusion de los procesadores es de T<=150\n",
    "## Que calculemos la potencia máxima que pueden alcanzar los procesadores, consideramos un vector con todos valores maximos\n",
    "## seria de la forma P_maximo = [P1_max, P2_max,P3_max, 1], donde todos son iguales de maximos, lo llamaremos P_max\n",
    "## Como ya conocemos el vector de coeficientes y la temperatura máxima 150, planteamos nuestra ecuación\n",
    "## P_max*a0 + P_max*a1 + P_max*a2 + b = 150\n",
    "## P_max* (a0 + a1 + a2) = 150 - b   --->  P_max = (150-b)/(a0+a1+a2)\n",
    "\n",
    "Potencia_maxima_fusion = (150 - coeficientes[3])/(coeficientes[0]+coeficientes[1]+coeficientes[2])\n",
    "print(\"La potencia máxima que pueden alcanzar en conjunto los 3 procesadores para no fusionarse es: \",Potencia_maxima_fusion)"
   ]
  },
  {
   "cell_type": "code",
   "execution_count": null,
   "metadata": {},
   "outputs": [],
   "source": []
  }
 ],
 "metadata": {
  "kernelspec": {
   "display_name": "Python 3 (ipykernel)",
   "language": "python",
   "name": "python3"
  },
  "language_info": {
   "codemirror_mode": {
    "name": "ipython",
    "version": 3
   },
   "file_extension": ".py",
   "mimetype": "text/x-python",
   "name": "python",
   "nbconvert_exporter": "python",
   "pygments_lexer": "ipython3",
   "version": "3.9.13"
  }
 },
 "nbformat": 4,
 "nbformat_minor": 4
}
